{
 "cells": [
  {
   "cell_type": "markdown",
   "id": "0c3367d9-4565-4009-b052-b2acf2129c9c",
   "metadata": {},
   "source": [
    "Parte 1: Laços de repetição"
   ]
  },
  {
   "cell_type": "code",
   "execution_count": 5,
   "id": "8f681fe4-cf28-4c98-b418-9d67cc365b2d",
   "metadata": {},
   "outputs": [
    {
     "name": "stdout",
     "output_type": "stream",
     "text": [
      "Para o documento 123,\n",
      " o valor do escore de crédito é 750.\n",
      "Para o documento 456,\n",
      " o valor do escore de crédito é 812.\n",
      "Para o documento 789,\n",
      " o valor do escore de crédito é 980.\n"
     ]
    }
   ],
   "source": [
    "credito = {'123': 750, '456': 812, '789': 980}\n",
    "for chave, valor in credito.items():\n",
    "    print(f'Para o documento {chave},\\n o valor do escore de crédito é {valor}.')"
   ]
  },
  {
   "cell_type": "markdown",
   "id": "f5c27e50-25d3-4a1e-8eb3-5dcab6bdbf63",
   "metadata": {},
   "source": [
    "Parte 2: Funções"
   ]
  },
  {
   "cell_type": "code",
   "execution_count": 7,
   "id": "51b9903c-d159-4151-8410-38286121f312",
   "metadata": {},
   "outputs": [
    {
     "name": "stdout",
     "output_type": "stream",
     "text": [
      "3.14159265359\n"
     ]
    }
   ],
   "source": [
    "def pi() -> float:\n",
    "    return 3.14159265359\n",
    "\n",
    "pi = pi()\n",
    "print(pi)\n"
   ]
  },
  {
   "cell_type": "markdown",
   "id": "98fe729c-f966-4b53-913d-bed8c1c60bac",
   "metadata": {},
   "source": [
    "Parte 3: Programação Funcional"
   ]
  },
  {
   "cell_type": "code",
   "execution_count": 10,
   "id": "ef553303-6722-42a9-9fb5-1eb6db408ff7",
   "metadata": {},
   "outputs": [
    {
     "name": "stdout",
     "output_type": "stream",
     "text": [
      "['andre.perez@gmail.com']\n"
     ]
    }
   ],
   "source": [
    "emails = [\n",
    "'andre.perez@gmail.com',\n",
    "'andre.perez@live.com',\n",
    "'andre.perez@yahoo.com'\n",
    "]\n",
    "provedor_da_google = lambda email: 'gmail' in email\n",
    "emails_google = filter(provedor_da_google, emails)\n",
    "print(list(emails_google))"
   ]
  },
  {
   "cell_type": "markdown",
   "id": "17a43cc0-27c4-475b-ab2d-ec9a51a433fe",
   "metadata": {},
   "source": [
    "Parte 4: Programação orientação a objetos"
   ]
  },
  {
   "cell_type": "code",
   "execution_count": 12,
   "id": "f19233cd-234e-48ac-b259-9dca41c9964a",
   "metadata": {},
   "outputs": [],
   "source": [
    "class Pessoa(object):\n",
    "    def __init__(self, nome: str, idade: int, documento: str):\n",
    "        self.nome = nome\n",
    "        self.idade = idade\n",
    "        self.documento = documento\n",
    "\n",
    "\n",
    "andre = Pessoa(nome=\"Andre\", idade=30, documento=\"123\")"
   ]
  },
  {
   "cell_type": "markdown",
   "id": "3fcaad24-6057-4813-8ce4-39527f9b4a40",
   "metadata": {},
   "source": [
    "2º Exercício: Erros em tempo de execução"
   ]
  },
  {
   "cell_type": "code",
   "execution_count": 13,
   "id": "45e44997-a233-482c-a5e8-c496733b4ba2",
   "metadata": {},
   "outputs": [
    {
     "name": "stdout",
     "output_type": "stream",
     "text": [
      "Overwriting credito.csv\n"
     ]
    }
   ],
   "source": [
    "%%writefile credito.csv\n",
    "id_vendedor,valor_emprestimos,quantidade_emprestimos,data\n",
    "104271,448.0,1,20161208\n",
    "21476,826.7,3,20161208\n",
    "87440,313.6,3,20161208\n",
    "15980,808.0,6,20161208\n",
    "215906,2212.0,5,20161208\n",
    "33696,2771.3,2,20161208\n",
    "33893,2240.0,3,20161208\n",
    "214946,\"4151.0\",18,20161208\n",
    "123974,2021.95,2,20161208\n",
    "225870,4039.0,2,20161208"
   ]
  },
  {
   "cell_type": "code",
   "execution_count": 27,
   "id": "2187d0b6-1e19-4076-8187-1d01a4f711ea",
   "metadata": {},
   "outputs": [
    {
     "name": "stdout",
     "output_type": "stream",
     "text": [
      "{'104271': 448.0}\n",
      "{'21476': 2480.1000000000004}\n",
      "{'87440': 940.8000000000001}\n",
      "{'15980': 4848.0}\n",
      "{'215906': 11060.0}\n",
      "{'33696': 5542.6}\n",
      "{'33893': 6720.0}\n",
      "{'214946': 74718.0}\n",
      "{'123974': 4043.9}\n",
      "{'225870': 8078.0}\n"
     ]
    }
   ],
   "source": [
    "def valor_total_emprestimo(valor: float, quantidade: int) -> float:\n",
    "    return valor * quantidade\n",
    "\n",
    "emprestimos = []\n",
    "\n",
    "with open(file='./credito.csv', mode='r', encoding='utf8') as fp:\n",
    "    fp.readline()  # cabeçalho\n",
    "    linha = fp.readline()\n",
    "    while linha:\n",
    "        linha_emprestimo = {}\n",
    "        linha_elementos = linha.strip().split(sep=',')\n",
    "        try:\n",
    "            linha_emprestimo['id_vendedor'] = linha_elementos[0]\n",
    "            linha_emprestimo['valor_emprestimos'] = float(linha_elementos[1])\n",
    "            linha_emprestimo['quantidade_emprestimos'] = int(linha_elementos[2])\n",
    "            linha_emprestimo['data'] = linha_elementos[3]\n",
    "            emprestimos.append(linha_emprestimo)\n",
    "        except ValueError:\n",
    "            print(\"Erro ao processar a linha. Ignorando...\")\n",
    "        linha = fp.readline()\n",
    "\n",
    "emprestimos_total = {}\n",
    "\n",
    "for emprestimo in emprestimos:\n",
    "    id_vendedor = emprestimo['id_vendedor']\n",
    "    valor_total = valor_total_emprestimo(\n",
    "        valor=emprestimo['valor_emprestimos'],\n",
    "        quantidade=emprestimo['quantidade_emprestimos']\n",
    "    )\n",
    "    if id_vendedor in emprestimos_total:\n",
    "        emprestimos_total[id_vendedor] += valor_total\n",
    "    else:\n",
    "        emprestimos_total[id_vendedor] = valor_total\n",
    "\n",
    "for id_vendedor, total in emprestimos_total.items():\n",
    "    print({id_vendedor: total})\n"
   ]
  },
  {
   "cell_type": "code",
   "execution_count": null,
   "id": "ef68c51a-e8b0-4f15-9ceb-4137e4909a63",
   "metadata": {},
   "outputs": [],
   "source": [
    "import pandas as pd"
   ]
  },
  {
   "cell_type": "code",
   "execution_count": 26,
   "id": "a6714f5b-9494-424d-8af6-92bee16fe1c4",
   "metadata": {},
   "outputs": [],
   "source": [
    "#usando essa parte pra sobrescrever o arquivo com a tipagem correta\n",
    "credito = pd.read_csv(\"credito.csv\")\n",
    "\n",
    "credito['valor_emprestimos'] = credito['valor_emprestimos'].astype('float')\n",
    "\n",
    "credito.to_csv(\"credito.csv\", index=False) "
   ]
  },
  {
   "cell_type": "code",
   "execution_count": null,
   "id": "69469089-7a0c-4a1b-b00b-dd91dee52667",
   "metadata": {},
   "outputs": [],
   "source": []
  }
 ],
 "metadata": {
  "kernelspec": {
   "display_name": "Python 3 (ipykernel)",
   "language": "python",
   "name": "python3"
  },
  "language_info": {
   "codemirror_mode": {
    "name": "ipython",
    "version": 3
   },
   "file_extension": ".py",
   "mimetype": "text/x-python",
   "name": "python",
   "nbconvert_exporter": "python",
   "pygments_lexer": "ipython3",
   "version": "3.11.5"
  }
 },
 "nbformat": 4,
 "nbformat_minor": 5
}
