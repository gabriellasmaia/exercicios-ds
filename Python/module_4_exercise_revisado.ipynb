{
 "cells": [
  {
   "cell_type": "markdown",
   "metadata": {
    "id": "KJqp9AANOCtf"
   },
   "source": [
    "<img src=\"https://raw.githubusercontent.com/andre-marcos-perez/ebac-course-utils/main/media/logo/newebac_logo_black_half.png\" alt=\"ebac-logo\">\n",
    "\n",
    "---\n",
    "\n",
    "# **Módulo** | Python: Arquivos & Funções\n",
    "Caderno de **Exercícios**<br> \n",
    "Professor [André Perez](https://www.linkedin.com/in/andremarcosperez/)\n",
    "\n",
    "---"
   ]
  },
  {
   "cell_type": "markdown",
   "metadata": {
    "id": "d9jDtUbDOE1-"
   },
   "source": [
    "# **Tópicos**\n",
    "\n",
    "<ol type=\"1\">\n",
    "  <li>Leitura;</li>\n",
    "  <li>Escrita;</li>\n",
    "  <li>Funções;</li>\n",
    "  <li>Escopo.</li>\n",
    "</ol>"
   ]
  },
  {
   "cell_type": "markdown",
   "metadata": {
    "id": "SmoHgt-lwkpD"
   },
   "source": [
    "---"
   ]
  },
  {
   "cell_type": "code",
   "execution_count": 3,
   "metadata": {},
   "outputs": [],
   "source": [
    "import csv\n",
    "\n",
    "data = [\n",
    "    [\"id\", \"valor_venda\", \"valor_manutencao\", \"portas\", \"pessoas\", \"porta_malas\"],\n",
    "    [1, \"vhigh\", \"med\", 2, 2, \"small\"],\n",
    "    [2, \"med\", \"vhigh\", 2, 2, \"small\"],\n",
    "    [3, \"low\", \"vhigh\", 2, 2, \"small\"],\n",
    "    [4, \"low\", \"high\", 2, 2, \"small\"],\n",
    "    [5, \"low\", \"high\", 2, 2, \"small\"],\n",
    "    [6, \"low\", \"high\", 4, 4, \"big\"],\n",
    "    [7, \"low\", \"high\", 4, 4, \"big\"],\n",
    "    [8, \"low\", \"med\", 2, 2, \"small\"],\n",
    "    [9, \"low\", \"med\", 2, 2, \"small\"],\n",
    "    [10, \"low\", \"med\", 2, 2, \"small\"],\n",
    "    [11, \"low\", \"med\", 4, 4, \"big\"],\n",
    "    [12, \"low\", \"low\", 2, 2, \"small\"],\n",
    "    [13, \"low\", \"low\", 4, 4, \"small\"],\n",
    "    [14, \"low\", \"low\", 4, 4, \"med\"]\n",
    "]\n",
    "\n",
    "filename = \"carros.csv\"\n",
    "\n",
    "with open(filename, 'w', newline='') as csvfile:\n",
    "    writer = csv.writer(csvfile)\n",
    "    writer.writerows(data)"
   ]
  },
  {
   "cell_type": "code",
   "execution_count": 4,
   "metadata": {},
   "outputs": [],
   "source": [
    "text = \"\"\"\n",
    "Roda Viva\n",
    "Chico Buarque\n",
    "Tem dias que a gente se sente\n",
    "Como quem partiu ou morreu\n",
    "A gente estancou de repente\n",
    "Ou foi o mundo então que cresceu\n",
    "A gente quer ter voz ativa\n",
    "No nosso destino mandar\n",
    "Mas eis que chega a roda viva\n",
    "E carrega o destino pra lá\n",
    "Roda mundo, roda-gigante\n",
    "Roda moinho, roda pião\n",
    "O tempo rodou num instante\n",
    "Nas voltas do meu coração\n",
    "A gente vai contra a corrente\n",
    "Até não poder resistir\n",
    "Na volta do barco é que sente\n",
    "O quanto deixou de cumprir\n",
    "Faz tempo que a gente cultiva\n",
    "A mais linda roseira que há\n",
    "Mas eis que chega a roda viva\n",
    "E carrega a roseira pra lá\n",
    "Roda mundo, roda-gigante\n",
    "Roda moinho, roda pião\n",
    "\"\"\"\n",
    "\n",
    "filename = \"musica.txt\"\n",
    "\n",
    "with open(filename, 'w') as file:\n",
    "    file.write(text)"
   ]
  },
  {
   "cell_type": "markdown",
   "metadata": {
    "id": "4F4DbJGQHPMa"
   },
   "source": [
    "# Exercício bônus"
   ]
  },
  {
   "cell_type": "markdown",
   "metadata": {
    "id": "U4S19ZvHsPcE"
   },
   "source": [
    "## 1\\. Funções para arquivo csv"
   ]
  },
  {
   "cell_type": "markdown",
   "metadata": {
    "id": "Mcf3mkOrtHzK"
   },
   "source": [
    "Complete a função abaixo para extrair uma coluna do arquivo csv em uma lista. Os elementos devem ter o tipo de dado correto."
   ]
  },
  {
   "cell_type": "code",
   "execution_count": 8,
   "metadata": {
    "id": "W-1PAg7Ctt7i"
   },
   "outputs": [],
   "source": [
    "def extrai_coluna_csv(nome_arquivo: str, indice_coluna: int, tipo_dado: str):\n",
    "    coluna = []\n",
    "    \n",
    "    with open(nome_arquivo, 'r', newline='') as arquivo_csv:\n",
    "        leitor_csv = csv.reader(arquivo_csv)\n",
    "        next(leitor_csv)  # Ignora a primeira linha (cabeçalhos das colunas)\n",
    "        for linha in leitor_csv:\n",
    "            elemento = linha[indice_coluna]\n",
    "            if tipo_dado == 'int':\n",
    "                coluna.append(int(elemento))\n",
    "            elif tipo_dado == 'float':\n",
    "                coluna.append(float(elemento))\n",
    "            else:\n",
    "                coluna.append(elemento)\n",
    "\n",
    "    return coluna"
   ]
  },
  {
   "cell_type": "markdown",
   "metadata": {
    "id": "qCbQF6jru_01"
   },
   "source": [
    "Você pode testar a função com os códigos abaixo."
   ]
  },
  {
   "cell_type": "code",
   "execution_count": 9,
   "metadata": {
    "id": "Rl-EYdySu90s"
   },
   "outputs": [
    {
     "name": "stdout",
     "output_type": "stream",
     "text": [
      "['vhigh', 'med', 'low', 'low', 'low', 'low', 'low', 'low', 'low', 'low', 'low', 'low', 'low', 'low']\n"
     ]
    }
   ],
   "source": [
    "# extrair a coluna valor_venda\n",
    "valor_venda = extrai_coluna_csv(nome_arquivo='./carros.csv', indice_coluna=1, tipo_dado='str')\n",
    "print(valor_venda) # deve retornar ['vhigh', 'med', 'low', ...]"
   ]
  },
  {
   "cell_type": "code",
   "execution_count": 10,
   "metadata": {
    "id": "hvD-zzwDwboD"
   },
   "outputs": [
    {
     "name": "stdout",
     "output_type": "stream",
     "text": [
      "[2, 2, 2, 2, 2, 4, 4, 2, 2, 2, 4, 2, 4, 4]\n"
     ]
    }
   ],
   "source": [
    "# extrair a coluna pessoas\n",
    "pessoas = extrai_coluna_csv(nome_arquivo='./carros.csv', indice_coluna=4, tipo_dado='int')\n",
    "print(pessoas) # deve retornar [2, 2, 2, ...]"
   ]
  },
  {
   "cell_type": "markdown",
   "metadata": {
    "id": "QTS5-sSbs4ie"
   },
   "source": [
    "---"
   ]
  },
  {
   "cell_type": "markdown",
   "metadata": {
    "id": "sebqs6uztCH4"
   },
   "source": [
    "## 2\\. Funções para arquivo txt"
   ]
  },
  {
   "cell_type": "markdown",
   "metadata": {
    "id": "IFVBGkNhzB3P"
   },
   "source": [
    "Complete a função abaixo para extrair uma as palavras de uma linha do arquivo txt em uma lista."
   ]
  },
  {
   "cell_type": "code",
   "execution_count": 11,
   "metadata": {
    "id": "ewrNqMtczWZJ"
   },
   "outputs": [],
   "source": [
    "def extrai_linha_txt(nome_arquivo: str, numero_linha: int):\n",
    "    palavras_linha = []\n",
    "\n",
    "    with open(nome_arquivo, 'r') as arquivo:\n",
    "        linhas = arquivo.readlines()\n",
    "        if 0 < numero_linha <= len(linhas):\n",
    "            linha_desejada = linhas[numero_linha - 1]\n",
    "\n",
    "            palavras_linha = linha_desejada.split()\n",
    "        else:\n",
    "            print(\"Número de linha fora do intervalo válido.\")\n",
    "\n",
    "    return palavras_linha"
   ]
  },
  {
   "cell_type": "markdown",
   "metadata": {
    "id": "Qz2UwipIz0t2"
   },
   "source": [
    "Você pode testar a função com os códigos abaixo."
   ]
  },
  {
   "cell_type": "code",
   "execution_count": 12,
   "metadata": {
    "id": "_Wxp43qqz1V2"
   },
   "outputs": [
    {
     "name": "stdout",
     "output_type": "stream",
     "text": [
      "['Mas', 'eis', 'que', 'chega', 'a', 'roda', 'viva']\n"
     ]
    }
   ],
   "source": [
    "linha10 = extrai_linha_txt(nome_arquivo='./musica.txt', numero_linha=10)\n",
    "print(linha10) # deve retornar ['Mas', 'eis', 'que', 'chega', 'a', 'roda', 'viva']"
   ]
  },
  {
   "cell_type": "markdown",
   "metadata": {
    "id": "Fo9qTjietCH6"
   },
   "source": [
    "---"
   ]
  },
  {
   "cell_type": "markdown",
   "metadata": {
    "id": "GABI6OW8OfQ2"
   },
   "source": [
    "# **Exercícios**"
   ]
  },
  {
   "cell_type": "markdown",
   "metadata": {
    "id": "muD1vxozykSC"
   },
   "source": [
    "## 0\\. Preparação do ambiente"
   ]
  },
  {
   "cell_type": "markdown",
   "metadata": {
    "id": "ahrFfCuBxJKs"
   },
   "source": [
    "Neste exercício vamos trabalhar com os arquivos de csv e texto definidos abaixo. Execute cada uma das células de código para escrever os arquivos na sua máquina virtual."
   ]
  },
  {
   "cell_type": "code",
   "execution_count": 13,
   "metadata": {},
   "outputs": [],
   "source": [
    "# Deixei em raw porque já fiz isso lá em cima"
   ]
  },
  {
   "cell_type": "markdown",
   "metadata": {
    "id": "u0uFuhRSq_hQ"
   },
   "source": [
    "* **carros.csv**: arquivo csv com informações sobre carros (venda, manutenção, portas, etc.)."
   ]
  },
  {
   "cell_type": "raw",
   "metadata": {
    "id": "daMf-xaXqKs2",
    "outputId": "e8bf438b-74f5-4043-e896-89ef555bb346"
   },
   "source": [
    "%%writefile carros.csv\n",
    "id,valor_venda,valor_manutencao,portas,pessoas,porta_malas\n",
    "1,vhigh,med,2,2,small\n",
    "2,med,vhigh,2,2,small\n",
    "3,low,vhigh,2,2,small\n",
    "4,low,high,2,2,small\n",
    "5,low,high,2,2,small\n",
    "6,low,high,4,4,big\n",
    "7,low,high,4,4,big\n",
    "8,low,med,2,2,small\n",
    "9,low,med,2,2,small\n",
    "10,low,med,2,2,small\n",
    "11,low,med,4,4,big\n",
    "12,low,low,2,2,small\n",
    "13,low,low,4,4,small\n",
    "14,low,low,4,4,med"
   ]
  },
  {
   "cell_type": "markdown",
   "metadata": {
    "id": "X0Z2PhbCrTz1"
   },
   "source": [
    "* **musica.txt**: arquivo texto com a letra da música Roda Viva do Chico Buarque."
   ]
  },
  {
   "cell_type": "raw",
   "metadata": {
    "id": "m7Ge2rggrU73",
    "outputId": "d5b9bd69-3b9d-4b11-83b0-50b43fb5e29f"
   },
   "source": [
    "%%writefile musica.txt\n",
    "Roda Viva\n",
    "Chico Buarque\n",
    "\n",
    "Tem dias que a gente se sente\n",
    "Como quem partiu ou morreu\n",
    "A gente estancou de repente\n",
    "Ou foi o mundo então que cresceu\n",
    "A gente quer ter voz ativa\n",
    "No nosso destino mandar\n",
    "Mas eis que chega a roda viva\n",
    "E carrega o destino pra lá\n",
    "\n",
    "Roda mundo, roda-gigante\n",
    "Roda moinho, roda pião\n",
    "\n",
    "O tempo rodou num instante\n",
    "Nas voltas do meu coração\n",
    "A gente vai contra a corrente\n",
    "Até não poder resistir\n",
    "Na volta do barco é que sente\n",
    "O quanto deixou de cumprir\n",
    "Faz tempo que a gente cultiva\n",
    "A mais linda roseira que há\n",
    "Mas eis que chega a roda viva\n",
    "E carrega a roseira pra lá\n",
    "\n",
    "Roda mundo, roda-gigante\n",
    "Roda moinho, roda pião"
   ]
  },
  {
   "cell_type": "markdown",
   "metadata": {
    "id": "zMN1Q3jdwoJm"
   },
   "source": [
    "---"
   ]
  },
  {
   "cell_type": "markdown",
   "metadata": {
    "id": "EhpCr1hDHPMW"
   },
   "source": [
    "## 1. Extração de coluna de arquivo csv "
   ]
  },
  {
   "cell_type": "markdown",
   "metadata": {
    "id": "wgjffXO5HPMW"
   },
   "source": [
    "1.1. Extraia os valores `valor_venda` e armazena em uma lista."
   ]
  },
  {
   "cell_type": "code",
   "execution_count": 27,
   "metadata": {
    "id": "GyKCiNs4HPMX"
   },
   "outputs": [
    {
     "name": "stdout",
     "output_type": "stream",
     "text": [
      "['vhigh', 'med', 'low', 'low', 'low', 'low', 'low', 'low', 'low', 'low', 'low', 'low', 'low', 'low']\n"
     ]
    }
   ],
   "source": [
    "valores_venda = []\n",
    "\n",
    "with open(file='./carros.csv', mode='r', encoding='utf8') as arquivo:\n",
    "    linhas = arquivo.readlines()\n",
    "    \n",
    "    # Iterar sobre as linhas, excluindo o cabeçalho (primeira linha)\n",
    "    for linha in linhas[1:]:\n",
    "        # Dividir a linha em colunas com base na vírgula como delimitador\n",
    "        colunas = linha.split(',')\n",
    "        \n",
    "        # Extrair o valor da coluna \"valor_venda\" (supondo que seja a segunda coluna)\n",
    "        valor_venda = colunas[1].strip()  # strip() para remover espaços em branco e caracteres de nova linha\n",
    "        \n",
    "        # Adicionar o valor extraído à lista de valores de venda\n",
    "        valores_venda.append(valor_venda)\n",
    "\n",
    "print(valores_venda)"
   ]
  },
  {
   "cell_type": "markdown",
   "metadata": {
    "id": "jtz4YGkPHPMX"
   },
   "source": [
    "1.2 Complete a função abaixo para extrair uma coluna, do arquivo csv em uma lista.\n"
   ]
  },
  {
   "cell_type": "code",
   "execution_count": 33,
   "metadata": {
    "id": "rhVrTud-HPMY"
   },
   "outputs": [],
   "source": [
    "def extrai_coluna_csv(nome_arquivo: str, indice_coluna: int):\n",
    "    coluna = []\n",
    "    with open(nome_arquivo, 'r', newline='') as arquivo_csv:\n",
    "        leitor_csv = csv.reader(arquivo_csv)\n",
    "        for linha in leitor_csv:\n",
    "            # Verificando se o índice da coluna é válido para evitar erros de indexação\n",
    "            if indice_coluna < len(linha):\n",
    "                coluna.append(linha[indice_coluna])\n",
    "            else:\n",
    "                print(f\"O índice da coluna {indice_coluna} é inválido para esta linha.\")\n",
    "                return None\n",
    "    return coluna"
   ]
  },
  {
   "cell_type": "markdown",
   "metadata": {
    "id": "aOMrs6bvHPMY"
   },
   "source": [
    "Você pode testar a função com os códigos abaixo."
   ]
  },
  {
   "cell_type": "code",
   "execution_count": 34,
   "metadata": {
    "id": "gO_VPjyAHPMZ"
   },
   "outputs": [
    {
     "name": "stdout",
     "output_type": "stream",
     "text": [
      "['valor_manutencao', 'med', 'vhigh', 'vhigh', 'high', 'high', 'high', 'high', 'med', 'med', 'med', 'med', 'low', 'low', 'low']\n"
     ]
    }
   ],
   "source": [
    "# extrair a coluna valor_manutencao\n",
    "valor_manutencao = extrai_coluna_csv(nome_arquivo='./carros.csv', indice_coluna=2)\n",
    "print(valor_manutencao) # deve retornar ['med', 'vhigh', 'vhigh', ...]"
   ]
  },
  {
   "cell_type": "code",
   "execution_count": 35,
   "metadata": {
    "id": "DDZI0aS7HPMa"
   },
   "outputs": [
    {
     "name": "stdout",
     "output_type": "stream",
     "text": [
      "['porta_malas', 'small', 'small', 'small', 'small', 'small', 'big', 'big', 'small', 'small', 'small', 'big', 'small', 'small', 'med']\n"
     ]
    }
   ],
   "source": [
    "# extrair a coluna porta_malas\n",
    "porta_malas = extrai_coluna_csv(nome_arquivo='./carros.csv', indice_coluna=5)\n",
    "print(porta_malas) # deve retornar ['small', 'small', 'small', ...]"
   ]
  },
  {
   "cell_type": "code",
   "execution_count": null,
   "metadata": {},
   "outputs": [],
   "source": []
  }
 ],
 "metadata": {
  "colab": {
   "collapsed_sections": [],
   "name": "module_4_exercise-revisado.ipynb",
   "provenance": [],
   "toc_visible": true
  },
  "kernelspec": {
   "display_name": "Python 3 (ipykernel)",
   "language": "python",
   "name": "python3"
  },
  "language_info": {
   "codemirror_mode": {
    "name": "ipython",
    "version": 3
   },
   "file_extension": ".py",
   "mimetype": "text/x-python",
   "name": "python",
   "nbconvert_exporter": "python",
   "pygments_lexer": "ipython3",
   "version": "3.11.5"
  }
 },
 "nbformat": 4,
 "nbformat_minor": 4
}
