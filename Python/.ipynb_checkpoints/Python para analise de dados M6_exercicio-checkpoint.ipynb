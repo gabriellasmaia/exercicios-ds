{
 "cells": [
  {
   "cell_type": "markdown",
   "metadata": {
    "id": "oKJ63sv03mNF"
   },
   "source": [
    "<img src=\"https://raw.githubusercontent.com/andre-marcos-perez/ebac-course-utils/main/media/logo/newebac_logo_black_half.png\" alt=\"ebac-logo\">\n",
    "\n",
    "---"
   ]
  },
  {
   "cell_type": "markdown",
   "metadata": {
    "id": "L0RLJfqczT7X"
   },
   "source": [
    "# **Módulo 06** | Python: Programação Orientada a Objetos"
   ]
  },
  {
   "cell_type": "markdown",
   "metadata": {
    "id": "qHPXiq6IzXjG"
   },
   "source": [
    "# **Tópicos/Exercícios**\n",
    "\n",
    "<ol type=\"1\">\n",
    "  <li>Um pouco de teoria;</li>\n",
    "  <li>Classes;</li>\n",
    "  <li>Objetos;</li>\n",
    "  <li>Herança.</li>\n",
    "</ol>"
   ]
  },
  {
   "cell_type": "markdown",
   "metadata": {
    "id": "syVczIAwGO3A"
   },
   "source": [
    "## 0\\. Preparação do ambiente"
   ]
  },
  {
   "cell_type": "markdown",
   "metadata": {
    "id": "2X3TrxdzGO3C"
   },
   "source": [
    "Neste exercício vamos trabalhar com os arquivos de csv e texto definidos abaixo. Execute cada uma das células de código para escrever os arquivos na sua máquina virtual."
   ]
  },
  {
   "cell_type": "markdown",
   "metadata": {
    "id": "3cH67RKZzc9B"
   },
   "source": [
    "* **carros.csv**: arquivo csv com informações sobre carros (venda, manutenção, portas, etc.)."
   ]
  },
  {
   "cell_type": "code",
   "execution_count": 1,
   "metadata": {
    "colab": {
     "base_uri": "https://localhost:8080/"
    },
    "id": "Ohao03egzc9B",
    "outputId": "57203993-ec11-4a59-8e85-7afefcba9314"
   },
   "outputs": [
    {
     "name": "stdout",
     "output_type": "stream",
     "text": [
      "Overwriting carros.csv\n"
     ]
    }
   ],
   "source": [
    "%%writefile carros.csv\n",
    "id,valor_venda,valor_manutencao,portas,pessoas,porta_malas\n",
    "1,vhigh,med,2,2,small\n",
    "2,med,vhigh,2,2,small\n",
    "3,low,vhigh,2,2,small\n",
    "4,low,high,2,2,small\n",
    "5,low,high,2,2,small\n",
    "6,low,high,4,4,big\n",
    "7,low,high,4,4,big\n",
    "8,low,med,2,2,small\n",
    "9,low,med,2,2,small\n",
    "10,low,med,2,2,small\n",
    "11,low,med,4,4,big\n",
    "12,low,low,2,2,small\n",
    "13,low,low,4,4,small\n",
    "14,low,low,4,4,med"
   ]
  },
  {
   "cell_type": "markdown",
   "metadata": {
    "id": "eaKZoLRVzc9B"
   },
   "source": [
    "* **musica.txt**: arquivo texto com a letra da música Roda Viva do Chico Buarque."
   ]
  },
  {
   "cell_type": "code",
   "execution_count": 2,
   "metadata": {
    "colab": {
     "base_uri": "https://localhost:8080/"
    },
    "id": "-rKbRSH9zc9B",
    "outputId": "1face2af-9764-4af1-9bc7-1a9eac55f4cf"
   },
   "outputs": [
    {
     "name": "stdout",
     "output_type": "stream",
     "text": [
      "Overwriting musica.txt\n"
     ]
    }
   ],
   "source": [
    "%%writefile musica.txt\n",
    "Roda Viva\n",
    "Chico Buarque\n",
    "\n",
    "Tem dias que a gente se sente\n",
    "Como quem partiu ou morreu\n",
    "A gente estancou de repente\n",
    "Ou foi o mundo então que cresceu\n",
    "A gente quer ter voz ativa\n",
    "No nosso destino mandar\n",
    "Mas eis que chega a roda viva\n",
    "E carrega o destino pra lá\n",
    "\n",
    "Roda mundo, roda-gigante\n",
    "Roda moinho, roda pião\n",
    "\n",
    "O tempo rodou num instante\n",
    "Nas voltas do meu coração\n",
    "A gente vai contra a corrente\n",
    "Até não poder resistir\n",
    "Na volta do barco é que sente\n",
    "O quanto deixou de cumprir\n",
    "Faz tempo que a gente cultiva\n",
    "A mais linda roseira que há\n",
    "Mas eis que chega a roda viva\n",
    "E carrega a roseira pra lá\n",
    "\n",
    "Roda mundo, roda-gigante\n",
    "Roda moinho, roda pião"
   ]
  },
  {
   "cell_type": "markdown",
   "metadata": {
    "id": "hpqV4OSWzc9C"
   },
   "source": [
    "## 1\\. Classe para ler arquivos de texto"
   ]
  },
  {
   "cell_type": "markdown",
   "metadata": {
    "id": "HQrKGtoMGjf6"
   },
   "source": [
    "Crie a classe `ArquivoTexto`. Ela deve conter os seguintes atributos:\n",
    "\n",
    "*   `self.arquivo`: Atributo do tipo `str` com o nome do arquivo;\n",
    "*   `self.conteudo`: Atributo do tipo `list` onde cada elemento é uma linha do arquivo;\n",
    "\n",
    "A classe também deve conter o seguinte método:\n",
    "\n",
    "*   `self.extrair_conteudo`: Método que realiza a leitura do arquivo e retorna o conteúdo.\n",
    "\n",
    "*   `self.extrair_linha`: Método que recebe como parâmetro o número da linha e retorna a linha do conteúdo.\n"
   ]
  },
  {
   "cell_type": "code",
   "execution_count": 8,
   "metadata": {
    "id": "Og66lmYDsRag"
   },
   "outputs": [],
   "source": [
    "class ArquivoTexto(object):\n",
    "\n",
    "    def __init__(self, arquivo: str):\n",
    "        self.arquivo = arquivo\n",
    "        self.conteudo = self.extrair_conteudo()\n",
    "\n",
    "    def extrair_conteudo(self):\n",
    "        try:\n",
    "            with open(self.arquivo, 'r') as file:\n",
    "                return file.readlines()\n",
    "        except FileNotFoundError:\n",
    "            print(f\"O arquivo '{self.arquivo}' não foi encontrado.\")\n",
    "            return []\n",
    "\n",
    "    def extrair_linha(self, numero_linha: int):\n",
    "        if 1 <= numero_linha <= len(self.conteudo):\n",
    "            return self.conteudo[numero_linha - 1]\n",
    "        else:\n",
    "            print(f\"A linha {numero_linha} está fora do intervalo válido (1 - {len(self.conteudo)}).\")\n",
    "            return None"
   ]
  },
  {
   "cell_type": "markdown",
   "metadata": {
    "id": "866OgsyHHw2M"
   },
   "source": [
    "Utilize o código abaixo para testar sua classe."
   ]
  },
  {
   "cell_type": "code",
   "execution_count": 9,
   "metadata": {
    "id": "eDM1iuCa4FT0"
   },
   "outputs": [
    {
     "name": "stdout",
     "output_type": "stream",
     "text": [
      "Roda Viva\n",
      "\n",
      "Mas eis que chega a roda viva\n",
      "\n"
     ]
    }
   ],
   "source": [
    "arquivo_texto = ArquivoTexto(arquivo='musica.txt')\n",
    "\n",
    "numero_linha = 1\n",
    "print(arquivo_texto.extrair_linha(numero_linha=numero_linha)) # Roda Viva\n",
    "\n",
    "numero_linha = 10\n",
    "print(arquivo_texto.extrair_linha(numero_linha=numero_linha)) # Mas eis que chega a roda viva"
   ]
  },
  {
   "cell_type": "markdown",
   "metadata": {
    "id": "AW0UIY6Yzc9C"
   },
   "source": [
    "---"
   ]
  },
  {
   "cell_type": "markdown",
   "metadata": {
    "id": "aQ8euzThIlLl"
   },
   "source": [
    "## 2\\. Classe para ler arquivos de csv"
   ]
  },
  {
   "cell_type": "markdown",
   "metadata": {
    "id": "EMWhvKAWIlL0"
   },
   "source": [
    "Crie a classe `ArquivoCSV`. Ela deve extender (herdar) a classe `ArquivoTexto` para reaproveitar os seus atributos (`self.arquivo` e `self.conteudo`). Além disso, adicione o seguinte atributo:\n",
    "\n",
    "*   `self.colunas`: Atributo do tipo `list` onde os elementos são os nome das colunas;\n",
    "\n",
    "A classe também deve conter o seguinte método:\n",
    "\n",
    "*   `self.extrair_nome_colunas`: Método que retorna o nome das colunas do arquivo.\n",
    "\n",
    "\n",
    "*   `extrair_coluna`: Método que recebe como parâmetro o indice da coluna e retorna o valor em questão."
   ]
  },
  {
   "cell_type": "code",
   "execution_count": 14,
   "metadata": {},
   "outputs": [],
   "source": [
    "class ArquivoCSV(ArquivoTexto):\n",
    "    def __init__(self, arquivo: str):\n",
    "        super().__init__(arquivo)\n",
    "        self.colunas = self.extrair_nome_colunas()\n",
    "\n",
    "    def extrair_nome_colunas(self):\n",
    "        if self.conteudo:\n",
    "            return self.conteudo[0].strip().split(',')\n",
    "        else:\n",
    "            print(\"O arquivo está vazio. Não foi possível extrair os nomes das colunas.\")\n",
    "            return []\n",
    "\n",
    "    def extrair_coluna(self, indice_coluna: int):\n",
    "        if 0 <= indice_coluna < len(self.colunas):\n",
    "            coluna = []\n",
    "            for linha in self.conteudo[1:]:  # Ignorando a primeira linha (cabeçalho)\n",
    "                valores = linha.strip().split(',')\n",
    "                if len(valores) > indice_coluna:\n",
    "                    coluna.append(valores[indice_coluna])\n",
    "                else:\n",
    "                    coluna.append(None)\n",
    "            return coluna\n",
    "        else:\n",
    "            print(f\"O índice da coluna {indice_coluna} está fora do intervalo válido (0 - {len(self.colunas) - 1}).\")\n",
    "            return None"
   ]
  },
  {
   "cell_type": "markdown",
   "metadata": {
    "id": "0VcgWVvT4haD"
   },
   "source": [
    "Utilize o código abaixo para testar sua classe."
   ]
  },
  {
   "cell_type": "code",
   "execution_count": 15,
   "metadata": {
    "id": "GKSf1YbcIlL1"
   },
   "outputs": [
    {
     "name": "stdout",
     "output_type": "stream",
     "text": [
      "id,valor_venda,valor_manutencao,portas,pessoas,porta_malas\n",
      "\n",
      "['id', 'valor_venda', 'valor_manutencao', 'portas', 'pessoas', 'porta_malas']\n",
      "9,low,med,2,2,small\n",
      "\n",
      "['med', 'vhigh', 'vhigh', 'high', 'high', 'high', 'high', 'med', 'med', 'med', 'med', 'low', 'low', 'low']\n"
     ]
    },
    {
     "ename": "AttributeError",
     "evalue": "'ArquivoCSV' object has no attribute 'extrair_coluna_da_linha'",
     "output_type": "error",
     "traceback": [
      "\u001b[0;31m---------------------------------------------------------------------------\u001b[0m",
      "\u001b[0;31mAttributeError\u001b[0m                            Traceback (most recent call last)",
      "Cell \u001b[0;32mIn[15], line 16\u001b[0m\n\u001b[1;32m     14\u001b[0m numero_linha \u001b[38;5;241m=\u001b[39m \u001b[38;5;241m10\u001b[39m\n\u001b[1;32m     15\u001b[0m numero_coluna \u001b[38;5;241m=\u001b[39m \u001b[38;5;241m2\u001b[39m\n\u001b[0;32m---> 16\u001b[0m \u001b[38;5;28mprint\u001b[39m(\u001b[43marquivo_csv\u001b[49m\u001b[38;5;241;43m.\u001b[39;49m\u001b[43mextrair_coluna_da_linha\u001b[49m(numero_linha\u001b[38;5;241m=\u001b[39mnumero_linha, numero_coluna\u001b[38;5;241m=\u001b[39mnumero_coluna)) \u001b[38;5;66;03m# low\u001b[39;00m\n",
      "\u001b[0;31mAttributeError\u001b[0m: 'ArquivoCSV' object has no attribute 'extrair_coluna_da_linha'"
     ]
    }
   ],
   "source": [
    "arquivo_csv = ArquivoCSV(arquivo='carros.csv')\n",
    "\n",
    "numero_linha = 1\n",
    "print(arquivo_csv.extrair_linha(numero_linha=numero_linha)) # id,valor_venda,valor_manutencao,portas,pessoas,porta_malas\n",
    "\n",
    "print(arquivo_csv.colunas) # ['id', 'valor_venda', 'valor_manutencao', 'portas', 'pessoas', 'porta_malas']\n",
    "\n",
    "numero_linha = 10\n",
    "print(arquivo_csv.extrair_linha(numero_linha=numero_linha)) # 9,low,med,2,2,small\n",
    "\n",
    "indice_coluna = 2\n",
    "print(arquivo_csv.extrair_coluna(indice_coluna=indice_coluna)) # ['med', 'vhigh', 'vhigh', 'high', 'high', 'high', 'high', 'med', 'med', 'med', 'med', 'low', 'low', 'low']\n",
    "\n",
    "numero_linha = 10\n",
    "numero_coluna = 2\n",
    "print(arquivo_csv.extrair_coluna_da_linha(numero_linha=numero_linha, numero_coluna=numero_coluna)) # low"
   ]
  },
  {
   "cell_type": "raw",
   "metadata": {},
   "source": [
    "Não entendi de onde veio esse extrair_coluna_da_linha ???"
   ]
  },
  {
   "cell_type": "code",
   "execution_count": null,
   "metadata": {},
   "outputs": [],
   "source": []
  }
 ],
 "metadata": {
  "colab": {
   "provenance": []
  },
  "kernelspec": {
   "display_name": "Python 3 (ipykernel)",
   "language": "python",
   "name": "python3"
  },
  "language_info": {
   "codemirror_mode": {
    "name": "ipython",
    "version": 3
   },
   "file_extension": ".py",
   "mimetype": "text/x-python",
   "name": "python",
   "nbconvert_exporter": "python",
   "pygments_lexer": "ipython3",
   "version": "3.11.5"
  }
 },
 "nbformat": 4,
 "nbformat_minor": 4
}
